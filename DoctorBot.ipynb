{
 "cells": [
  {
   "cell_type": "code",
   "execution_count": null,
   "id": "0f98b343-f2e0-43b9-ac44-be9dbf046737",
   "metadata": {},
   "outputs": [],
   "source": [
    "!pip install langchain\n",
    "!pip install openai\n",
    "!pip install pinecone-client\n",
    "!pip install tiktoken\n",
    "!pip install asyncio"
   ]
  },
  {
   "cell_type": "code",
   "execution_count": 2,
   "id": "14b2fb34-a87f-44ea-870b-0eef54c89880",
   "metadata": {},
   "outputs": [],
   "source": [
    "import os\n",
    "os.environ['OPENAI_API_KEY'] = \"abc\"\n",
    "os.environ['PINECONE_API_KEY'] = \"123\""
   ]
  },
  {
   "cell_type": "markdown",
   "id": "2a5e2d90-b404-4e8c-9415-c11ca4dbd5bd",
   "metadata": {},
   "source": [
    "## Prepare FAISS index using Pinecone"
   ]
  },
  {
   "cell_type": "code",
   "execution_count": 3,
   "id": "0ea5b428-e5fb-4768-b76e-a018cdb9e0ed",
   "metadata": {},
   "outputs": [],
   "source": [
    "import os\n",
    "import asyncio\n",
    "import tiktoken\n",
    "import pinecone\n",
    "from IPython.display import Markdown, display\n",
    "from langchain.embeddings import OpenAIEmbeddings, HypotheticalDocumentEmbedder\n",
    "from langchain.text_splitter import CharacterTextSplitter\n",
    "from langchain.vectorstores.elastic_vector_search import ElasticVectorSearch\n",
    "from langchain.vectorstores.faiss import FAISS\n",
    "from langchain.docstore.document import Document\n",
    "from langchain.chains.question_answering import load_qa_chain\n",
    "from langchain.llms import OpenAI\n",
    "from langchain.prompts import PromptTemplate\n",
    "from langchain.chains.conversation.memory import ConversationBufferMemory\n",
    "from langchain.vectorstores import Pinecone\n",
    "pinecone.init(api_key=os.environ['PINECONE_API_KEY'], environment=\"us-west1-gcp\")\n",
    "embeddings = OpenAIEmbeddings()"
   ]
  },
  {
   "cell_type": "code",
   "execution_count": null,
   "id": "fed79176",
   "metadata": {},
   "outputs": [],
   "source": [
    "# Create Pinecone FAISS Index\n",
    "pinecone.create_index(\"health\", dimension=1536)"
   ]
  },
  {
   "cell_type": "code",
   "execution_count": null,
   "id": "fdb418f9-af87-464e-bb74-2d1363a45636",
   "metadata": {},
   "outputs": [],
   "source": [
    "# Split text file into chunks\n",
    "with open('webmd.txt') as f:\n",
    "    harrisons = f.read()\n",
    "text_splitter = CharacterTextSplitter.from_tiktoken_encoder(chunk_size=500, chunk_overlap=0)\n",
    "texts = text_splitter.split_text(harrisons)"
   ]
  },
  {
   "cell_type": "code",
   "execution_count": null,
   "id": "20573ebe-86fd-4b2d-a2c0-20c6bce34698",
   "metadata": {},
   "outputs": [],
   "source": [
    "# Upload chunks to Pinecone\n",
    "async def upsertTexts(arr):\n",
    "    return Pinecone(pinecone.Index(\"health\"), embeddings.embed_query, \"text\").add_texts(arr)"
   ]
  },
  {
   "cell_type": "code",
   "execution_count": null,
   "id": "786a6d63-9b79-4546-a296-18df93f04f64",
   "metadata": {},
   "outputs": [],
   "source": [
    "batch_size = 100\n",
    "for i in range(0, len(texts), batch_size):\n",
    "    await upsertTexts(texts[i:i+batch_size])"
   ]
  },
  {
   "cell_type": "markdown",
   "id": "35963670-dc1e-4c97-b30b-ce7804921d16",
   "metadata": {},
   "source": [
    "## Query index as a chatbot with memory"
   ]
  },
  {
   "cell_type": "code",
   "execution_count": 49,
   "id": "0d1c8af8",
   "metadata": {},
   "outputs": [],
   "source": [
    "template = \"\"\"You are a doctor having a conversation with a patient.\n",
    "\n",
    "Given the following extracted parts of a long document and a question, create a final factual answer.\n",
    "\n",
    "{context}\n",
    "\n",
    "{chat_history}\n",
    "Patient: {human_input}\n",
    "Doctor:\"\"\"\n",
    "\n",
    "prompt = PromptTemplate(\n",
    "    input_variables=[\"chat_history\", \"human_input\", \"context\"],\n",
    "    template=template\n",
    ")\n",
    "memory = ConversationBufferMemory(memory_key=\"chat_history\", input_key=\"human_input\", ai_prefix=\"Doctor\", human_prefix=\"Patient\")\n",
    "docsearch = Pinecone(pinecone.Index(\"health\"), embeddings.embed_query, \"text\")\n",
    "stop = [\"Doctor:\", \"Patient:\", \"The following\", \"Other things\"]\n",
    "llm = OpenAI(model_name=\"gpt-4\", temperature=0, stop=stop)\n",
    "chain = load_qa_chain(llm, chain_type=\"stuff\", memory=memory, prompt=prompt)"
   ]
  },
  {
   "cell_type": "code",
   "execution_count": 50,
   "id": "8da73621",
   "metadata": {},
   "outputs": [],
   "source": [
    "def askDoctor(query):\n",
    "    docs = docsearch.similarity_search(query)[0:2]\n",
    "    return chain({'input_documents': docs, 'human_input': query})['output_text'].strip()"
   ]
  },
  {
   "cell_type": "code",
   "execution_count": 51,
   "id": "0bccad48-d6c5-4865-8c3f-1f0d4608293a",
   "metadata": {},
   "outputs": [
    {
     "data": {
      "text/plain": [
       "'Fainting can be caused by a variety of things. The most common cause is a drop in blood pressure. This can happen for a variety of reasons, including anxiety, fear, pain, intense emotional stress, hunger, or use of alcohol or drugs. Most people who suffer from simple fainting have no underlying heart or neurological (nerve or brain) problem.\\n\\n \\n\\nSome people have a problem with the way their body regulates their blood pressure, particularly when they move too quickly from a lying or sitting position to a standing position. This condition is called postural hypotension and may be severe enough to cause fainting. This type of fainting is more common in the elderly, people who recently had a lengthy illness that kept them in bed and people who have poor muscle tone.'"
      ]
     },
     "execution_count": 51,
     "metadata": {},
     "output_type": "execute_result"
    }
   ],
   "source": [
    "askDoctor(\"I feel light headed all of a sudden and I'm unable to walk for a short time. What is the cause?\")"
   ]
  },
  {
   "cell_type": "code",
   "execution_count": 52,
   "id": "de49c662-6443-42d5-a4ca-7da1ee1e663d",
   "metadata": {},
   "outputs": [
    {
     "data": {
      "text/plain": [
       "\"The inability to close your hand into a fist could be the result of a variety of conditions, including:\\n\\n \\n\\n- Arthritis\\n- Tendonitis\\n- Broken bones\\n- Sprains\\n- Strains\\n- Nerve damage\\n- Parkinson's disease\\n- Stroke\\n- Diabetes\\n- Thyroid disease\\n- Parkinson's disease\\n- Stroke\\n- Diabetes\\n- Thyroid disease\""
      ]
     },
     "execution_count": 52,
     "metadata": {},
     "output_type": "execute_result"
    }
   ],
   "source": [
    "askDoctor(\"I'm also unable to close my hand into a fist. What could it be?\")"
   ]
  },
  {
   "cell_type": "code",
   "execution_count": 53,
   "id": "02965399-d5d5-4234-9918-0699f9780ca4",
   "metadata": {},
   "outputs": [
    {
     "data": {
      "text/plain": [
       "'For immediate relief, apply a cold pack or ice wrapped in a cloth to the painful area.'"
      ]
     },
     "execution_count": 53,
     "metadata": {},
     "output_type": "execute_result"
    }
   ],
   "source": [
    "askDoctor(\"What can I do to treat it in the short term?\")"
   ]
  },
  {
   "cell_type": "code",
   "execution_count": 44,
   "id": "176d6143-fbed-4b7d-9579-fc6533ca993e",
   "metadata": {},
   "outputs": [
    {
     "data": {
      "text/plain": [
       "ConversationBufferMemory(human_prefix='Patient', ai_prefix='Doctor', buffer=\"\\nPatient: I feel light headed all of a sudden and I'm unable to walk for a short time. What is the cause?\\nDoctor:  \\n\\nFainting can be caused by a variety of things. The most common cause is a drop in blood pressure. This can happen for a variety of reasons, including anxiety, fear, pain, intense emotional stress, hunger, or use of alcohol or drugs. Most people who suffer from simple fainting have no underlying heart or neurological (nerve or brain) problem.\\n\\n \\n\\nSome people have a problem with the way their body regulates their blood pressure, particularly when they move too quickly from a lying or sitting position to a standing position. This condition is called postural hypotension and may be severe enough to cause fainting. This type of fainting is more common in the elderly, people who recently had a lengthy illness that kept them in bed and people who have poor muscle tone.\\n\\n \\n\\n\\nPatient: I'm also unable to close my hand into a fist. What could it be?\\nDoctor:   \\n\\nThe inability to close your hand into a fist could be the result of a variety of conditions, including:\\n\\n \\n\\n- Arthritis\\n- Tendonitis\\n- Broken bones\\n- Sprains\\n- Strains\\n- Nerve damage\\n- Parkinson's disease\\n- Stroke\\n- Diabetes\\n- Thyroid disease\\n- Parkinson's disease\\n- Stroke\\n- Diabetes\\n- Thyroid disease\\n\\n \\n\\n\\n\\n\\nPatient: I'm also unable to close my hand into a fist. What could it be?\\nDoctor:    \\n\\nThe inability to close your hand into a fist could be the result of a variety of conditions, including:\\n\\n \\n\\n- Arthritis\\n- Tendonitis\\n- Broken bones\\n- Sprains\\n- Strains\\n- Nerve damage\\n- Parkinson's disease\\n- Stroke\\n- Diabetes\\n- Thyroid disease\\n- Parkinson's disease\\n- Stroke\\n- Diabetes\\n- Thyroid disease\\nPatient: What can I do to treat it in the short term?\\nDoctor:  \\n\\nFor immediate relief, apply a cold pack or ice wrapped in a cloth to the painful area. \\n\\nFor long-term relief, apply heat to the painful area. \\n\\n \", output_key=None, input_key='human_input', memory_key='chat_history')"
      ]
     },
     "execution_count": 44,
     "metadata": {},
     "output_type": "execute_result"
    }
   ],
   "source": [
    "memory"
   ]
  }
 ],
 "metadata": {
  "kernelspec": {
   "display_name": "Python 3 (ipykernel)",
   "language": "python",
   "name": "python3"
  },
  "language_info": {
   "codemirror_mode": {
    "name": "ipython",
    "version": 3
   },
   "file_extension": ".py",
   "mimetype": "text/x-python",
   "name": "python",
   "nbconvert_exporter": "python",
   "pygments_lexer": "ipython3",
   "version": "3.9.16"
  }
 },
 "nbformat": 4,
 "nbformat_minor": 5
}
