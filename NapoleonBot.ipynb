{
 "cells": [
  {
   "cell_type": "code",
   "execution_count": null,
   "id": "aRAmdoK2vd1L",
   "metadata": {
    "id": "aRAmdoK2vd1L"
   },
   "outputs": [],
   "source": [
    "!pip install gpt-index"
   ]
  },
  {
   "cell_type": "code",
   "execution_count": 2,
   "id": "b4b4387b-413e-4016-ba1e-88b3d9410a38",
   "metadata": {
    "id": "b4b4387b-413e-4016-ba1e-88b3d9410a38"
   },
   "outputs": [],
   "source": [
    "# fetch \"Napoleon\" page from Wikipedia\n",
    "from pathlib import Path\n",
    "\n",
    "import requests\n",
    "response = requests.get(\n",
    "    'https://en.wikipedia.org/w/api.php',\n",
    "    params={\n",
    "        'action': 'query',\n",
    "        'format': 'json',\n",
    "        'titles': 'Napoleon',\n",
    "        'prop': 'extracts',\n",
    "        # 'exintro': True,\n",
    "        'explaintext': True,\n",
    "    }\n",
    ").json()\n",
    "page = next(iter(response['query']['pages'].values()))\n",
    "napoleon_text = page['extract']\n",
    "\n",
    "data_path = Path('data')\n",
    "if not data_path.exists():\n",
    "    Path.mkdir(data_path)\n",
    "\n",
    "with open('data/napoleon_text.txt', 'w') as fp:\n",
    "    fp.write(napoleon_text)"
   ]
  },
  {
   "cell_type": "code",
   "execution_count": 3,
   "id": "f1a9eb90-335c-4214-8bb6-fd1edbe3ccbd",
   "metadata": {
    "id": "f1a9eb90-335c-4214-8bb6-fd1edbe3ccbd"
   },
   "outputs": [],
   "source": [
    "#OpenAI Key\n",
    "import os\n",
    "os.environ['OPENAI_API_KEY'] = \"abc\""
   ]
  },
  {
   "cell_type": "code",
   "execution_count": 4,
   "id": "8d0b2364-4806-4656-81e7-3f6e4b910b5b",
   "metadata": {
    "id": "8d0b2364-4806-4656-81e7-3f6e4b910b5b"
   },
   "outputs": [],
   "source": [
    "from gpt_index import GPTTreeIndex, SimpleDirectoryReader"
   ]
  },
  {
   "cell_type": "code",
   "execution_count": null,
   "id": "1298bbb4-c99e-431e-93ef-eb32c0a2fc2a",
   "metadata": {
    "id": "1298bbb4-c99e-431e-93ef-eb32c0a2fc2a",
    "tags": []
   },
   "outputs": [],
   "source": [
    "# create a tree index\n",
    "documents = SimpleDirectoryReader('data').load_data()\n",
    "index = GPTTreeIndex(documents)"
   ]
  },
  {
   "cell_type": "code",
   "execution_count": 6,
   "id": "0b4fe9b6-5762-4e86-b51e-aac45d3ecdb1",
   "metadata": {
    "id": "0b4fe9b6-5762-4e86-b51e-aac45d3ecdb1"
   },
   "outputs": [],
   "source": [
    "# save index to disk\n",
    "index.save_to_disk('index.json')"
   ]
  },
  {
   "cell_type": "code",
   "execution_count": 7,
   "id": "5eec265d-211b-4f26-b05b-5b4e7072bc6e",
   "metadata": {
    "id": "5eec265d-211b-4f26-b05b-5b4e7072bc6e"
   },
   "outputs": [],
   "source": [
    "# try loading\n",
    "new_index = GPTTreeIndex.load_from_disk('index.json')"
   ]
  },
  {
   "cell_type": "code",
   "execution_count": 17,
   "id": "H59GRli-2z8X",
   "metadata": {
    "id": "H59GRli-2z8X"
   },
   "outputs": [],
   "source": [
    "from gpt_index import SummaryPrompt\n",
    "query_str = \"How did you win the battle of Waterloo?\"\n",
    "SUMMARY_PROMPT_TMPL = (\n",
    "    \"Context information is below. \\n\"\n",
    "    \"---------------------\\n\"\n",
    "    \"{context_str}\"\n",
    "    \"\\n---------------------\\n\"\n",
    "    \"Given the context information about yourself and not prior knowledge, \"\n",
    "    f\"factually answer the question in the first person: {query_str}\\n\"\n",
    ")\n",
    "SUMMARY_PROMPT = SummaryPrompt(SUMMARY_PROMPT_TMPL)\n",
    "index_with_query = GPTTreeIndex(documents, summary_template=SUMMARY_PROMPT)"
   ]
  },
  {
   "cell_type": "code",
   "execution_count": null,
   "id": "4iUjzAh14F0a",
   "metadata": {
    "id": "4iUjzAh14F0a"
   },
   "outputs": [],
   "source": [
    "index_with_query.save_to_disk(\"index_with_query.json\")"
   ]
  },
  {
   "cell_type": "code",
   "execution_count": 18,
   "id": "5VpoOE3E4KcQ",
   "metadata": {
    "id": "5VpoOE3E4KcQ"
   },
   "outputs": [],
   "source": [
    "response = index_with_query.query(\"How did you win the battle of Waterloo?\", mode=\"retrieve\")"
   ]
  },
  {
   "cell_type": "code",
   "execution_count": 19,
   "id": "vKlOX0bi4Tet",
   "metadata": {
    "colab": {
     "base_uri": "https://localhost:8080/",
     "height": 53
    },
    "id": "vKlOX0bi4Tet",
    "outputId": "97514cf1-6c42-41ce-dac6-3322eae6426e"
   },
   "outputs": [
    {
     "data": {
      "application/vnd.google.colaboratory.intrinsic+json": {
       "type": "string"
      },
      "text/plain": [
       "'\\nI did not win the Battle of Waterloo. The Battle of Waterloo was fought on June 18, 1815, and was a decisive victory for the Seventh Coalition, led by the Duke of Wellington of the United Kingdom and Gebhard Leberecht von Blücher of Prussia, against the French army under Napoleon Bonaparte.'"
      ]
     },
     "execution_count": 19,
     "metadata": {},
     "output_type": "execute_result"
    }
   ],
   "source": [
    "response.response"
   ]
  },
  {
   "cell_type": "code",
   "execution_count": 21,
   "id": "FWh99gnxZxwR",
   "metadata": {
    "colab": {
     "base_uri": "https://localhost:8080/",
     "height": 35
    },
    "id": "FWh99gnxZxwR",
    "outputId": "dd6bbcca-ed09-4631-b902-c09ee9752f8b"
   },
   "outputs": [
    {
     "data": {
      "application/vnd.google.colaboratory.intrinsic+json": {
       "type": "string"
      },
      "text/plain": [
       "'\\nI was born in Ajaccio, Corsica on August 15, 1769.'"
      ]
     },
     "execution_count": 21,
     "metadata": {},
     "output_type": "execute_result"
    }
   ],
   "source": [
    "index_with_query.query(\"Where were you born?\", mode=\"retrieve\").response"
   ]
  }
 ],
 "metadata": {
  "colab": {
   "provenance": []
  },
  "kernelspec": {
   "display_name": "Python 3 (ipykernel)",
   "language": "python",
   "name": "python3"
  },
  "language_info": {
   "codemirror_mode": {
    "name": "ipython",
    "version": 3
   },
   "file_extension": ".py",
   "mimetype": "text/x-python",
   "name": "python",
   "nbconvert_exporter": "python",
   "pygments_lexer": "ipython3",
   "version": "3.9.16"
  }
 },
 "nbformat": 4,
 "nbformat_minor": 5
}
